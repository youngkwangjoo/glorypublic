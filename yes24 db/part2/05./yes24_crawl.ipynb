{
 "cells": [
  {
   "cell_type": "code",
   "execution_count": 55,
   "metadata": {},
   "outputs": [],
   "source": [
    "from selenium import webdriver\n",
    "from selenium.webdriver.common.by import By\n",
    "browser = webdriver.Chrome()"
   ]
  },
  {
   "cell_type": "code",
   "execution_count": null,
   "metadata": {},
   "outputs": [],
   "source": [
    "# from webdriver_manager.chrome import ChromeDriverManager\n",
    "# ChromeDriverManager().install()"
   ]
  },
  {
   "cell_type": "code",
   "execution_count": 57,
   "metadata": {},
   "outputs": [],
   "source": [
    "url = 'https://www.yes24.com/Product/Category/BestSeller?categoryNumber=001&pageNumber=3&pageSize=24'\n",
    "browser.get(url)\n"
   ]
  },
  {
   "cell_type": "code",
   "execution_count": null,
   "metadata": {},
   "outputs": [],
   "source": [
    "#1페이지 링크데이터 수집\n",
    "browser.find_element(By.CLASS_NAME, 'gd_name').get_attribute('href')\n",
    "# 1페이지 전체의 링크 데이터\n",
    "datas = browser.find_elements(By.CLASS_NAME, 'gd_name')\n",
    "\n",
    "for i in datas:\n",
    "    print(i.get_attribute('href'))\n",
    "   "
   ]
  },
  {
   "cell_type": "code",
   "execution_count": 58,
   "metadata": {},
   "outputs": [
    {
     "name": "stdout",
     "output_type": "stream",
     "text": [
      "********** 현재 {i} 페이지 수집중입니다. **********\n",
      "********** 현재 {i} 페이지 수집중입니다. **********\n",
      "********** 현재 {i} 페이지 수집중입니다. **********\n",
      "['https://www.yes24.com/Product/Goods/126010792', 'https://www.yes24.com/Product/Goods/124999476', 'https://www.yes24.com/Product/Goods/126029503', 'https://www.yes24.com/Product/Goods/125295101', 'https://www.yes24.com/Product/Goods/125992096', 'https://www.yes24.com/Product/Goods/125491624', 'https://www.yes24.com/Product/Goods/125651056', 'https://www.yes24.com/Product/Goods/126110769', 'https://www.yes24.com/Product/Goods/117014613', 'https://www.yes24.com/Product/Goods/125576919', 'https://www.yes24.com/Product/Goods/123675187', 'https://www.yes24.com/Product/Goods/122120495', 'https://www.yes24.com/Product/Goods/126029190', 'https://www.yes24.com/Product/Goods/125973831', 'https://www.yes24.com/Product/Goods/90926731', 'https://www.yes24.com/Product/Goods/123400303', 'https://www.yes24.com/Product/Goods/96547408', 'https://www.yes24.com/Product/Goods/126012006', 'https://www.yes24.com/Product/Goods/125557465', 'https://www.yes24.com/Product/Goods/123930880', 'https://www.yes24.com/Product/Goods/124043812', 'https://www.yes24.com/Product/Goods/125606168', 'https://www.yes24.com/Product/Goods/125384202', 'https://www.yes24.com/Product/Goods/125970283', 'https://www.yes24.com/Product/Goods/123930891', 'https://www.yes24.com/Product/Goods/124926484', 'https://www.yes24.com/Product/Goods/126053427', 'https://www.yes24.com/Product/Goods/124043802', 'https://www.yes24.com/Product/Goods/125752452', 'https://www.yes24.com/Product/Goods/125992327', 'https://www.yes24.com/Product/Goods/125871480', 'https://www.yes24.com/Product/Goods/124112599', 'https://www.yes24.com/Product/Goods/125757418', 'https://www.yes24.com/Product/Goods/125709308', 'https://www.yes24.com/Product/Goods/125558276', 'https://www.yes24.com/Product/Goods/8759796', 'https://www.yes24.com/Product/Goods/125905365', 'https://www.yes24.com/Product/Goods/124702623', 'https://www.yes24.com/Product/Goods/125918682', 'https://www.yes24.com/Product/Goods/125558632', 'https://www.yes24.com/Product/Goods/125912298', 'https://www.yes24.com/Product/Goods/125184439', 'https://www.yes24.com/Product/Goods/124515978', 'https://www.yes24.com/Product/Goods/82287934', 'https://www.yes24.com/Product/Goods/126011064', 'https://www.yes24.com/Product/Goods/59003542', 'https://www.yes24.com/Product/Goods/125085536', 'https://www.yes24.com/Product/Goods/90275002', 'https://www.yes24.com/Product/Goods/114853233', 'https://www.yes24.com/Product/Goods/125668307', 'https://www.yes24.com/Product/Goods/125384672', 'https://www.yes24.com/Product/Goods/104086365', 'https://www.yes24.com/Product/Goods/122090360', 'https://www.yes24.com/Product/Goods/125648423', 'https://www.yes24.com/Product/Goods/118413014', 'https://www.yes24.com/Product/Goods/125910832', 'https://www.yes24.com/Product/Goods/118579613', 'https://www.yes24.com/Product/Goods/25283908', 'https://www.yes24.com/Product/Goods/124702605', 'https://www.yes24.com/Product/Goods/124225606', 'https://www.yes24.com/Product/Goods/125542915', 'https://www.yes24.com/Product/Goods/97255028', 'https://www.yes24.com/Product/Goods/125285962', 'https://www.yes24.com/Product/Goods/125771626', 'https://www.yes24.com/Product/Goods/125794793', 'https://www.yes24.com/Product/Goods/125447851', 'https://www.yes24.com/Product/Goods/123318244', 'https://www.yes24.com/Product/Goods/126045417', 'https://www.yes24.com/Product/Goods/118569079', 'https://www.yes24.com/Product/Goods/125384743', 'https://www.yes24.com/Product/Goods/126031355', 'https://www.yes24.com/Product/Goods/124539805']\n"
     ]
    }
   ],
   "source": [
    " #https://www.yes24.com/Product/Category/BestSeller?categoryNumber=001&pageNumber=1&pageSize=24'\n",
    "    #https://www.yes24.com/Product/Category/BestSeller?categoryNumber=001&pageNumber=2&pageSize=24'\n",
    "    #https://www.yes24.com/Product/Category/BestSeller?categoryNumber=001&pageNumber=3&pageSize=24'\n",
    "import time\n",
    "\n",
    "link_list = []\n",
    "for i in range(1,4):\n",
    "    print(\"*\" * 10, \"현재 {i} 페이지 수집중입니다.\" , \"*\" * 10)\n",
    "    url = f'https://www.yes24.com/Product/Category/BestSeller?categoryNumber=001&pageNumber={i}&pageSize=24'\n",
    "    browser.get(url)\n",
    "    #1페이지 링크데이터 수집\n",
    "    browser.find_element(By.CLASS_NAME, 'gd_name').get_attribute('href')\n",
    "# 1페이지 전체의 링크 데이터\n",
    "    datas = browser.find_elements(By.CLASS_NAME, 'gd_name')\n",
    "\n",
    "    for i in datas:\n",
    "        link = (i.get_attribute('href'))\n",
    "        link_list.append(link)\n",
    "    time.sleep(3)\n",
    "\n",
    "print(link_list)"
   ]
  },
  {
   "cell_type": "code",
   "execution_count": 76,
   "metadata": {},
   "outputs": [
    {
     "data": {
      "text/plain": [
       "'국내도서 1위'"
      ]
     },
     "execution_count": 76,
     "metadata": {},
     "output_type": "execute_result"
    }
   ],
   "source": [
    "# for link in link_list:\n",
    "#     browser.get(link)\n",
    "\n",
    "browser.get(link_list[0])\n",
    "\n",
    "title = browser.find_element(By.CLASS_NAME, 'gd_name').text\n",
    "author = browser.find_element(By.CLASS_NAME, 'gd_auth').text\n",
    "publisher = browser.find_element(By.CLASS_NAME, 'gd_pub').text\n",
    "publishing = browser.find_element(By.CLASS_NAME, 'gd_date').text\n",
    "rating = browser.find_element(By.CLASS_NAME, 'yes_b').text\n",
    "reviews = browser.find_element(By.CLASS_NAME, 'txC_blue').text\n",
    "sales =  browser.find_element(By.CLASS_NAME, 'gd_sellNum').text.split(\" \")[2]\n",
    "price =  browser.find_element(By.CLASS_NAME, 'yes_m').text[:-1]\n",
    "ranking = browser.find_element(By.CLASS_NAME, 'gd_best').text.split(\" | \")[0]\n",
    "rankingmix = browser.find_element(By.CLASS_NAME, 'gd_best').text.split(\" | \")[1]\n"
   ]
  },
  {
   "cell_type": "code",
   "execution_count": null,
   "metadata": {},
   "outputs": [],
   "source": [
    "#데이터 베이스 연동 후 -> 수집한 데이터를 db에 저장(csv)\n",
    "#상세페이지 이동 후 데이터 크롤링\n"
   ]
  }
 ],
 "metadata": {
  "kernelspec": {
   "display_name": "myenv",
   "language": "python",
   "name": "python3"
  },
  "language_info": {
   "codemirror_mode": {
    "name": "ipython",
    "version": 3
   },
   "file_extension": ".py",
   "mimetype": "text/x-python",
   "name": "python",
   "nbconvert_exporter": "python",
   "pygments_lexer": "ipython3",
   "version": "3.12.3"
  }
 },
 "nbformat": 4,
 "nbformat_minor": 2
}
