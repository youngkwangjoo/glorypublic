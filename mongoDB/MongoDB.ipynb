{
 "cells": [
  {
   "cell_type": "code",
   "execution_count": null,
   "metadata": {},
   "outputs": [],
   "source": [
    "from pymongo import MongoClient\n",
    "\n",
    "def insert_data():\n",
    "    client = MongoClient('mongodb://localhost:27017/')\n",
    "    db = client.local  # 'local' 데이터베이스 사용\n",
    "\n",
    "    # 책 데이터 삽입\n",
    "    books = [\n",
    "        {\"title\": \"Kafka on the Shore\", \"author\": \"Haruki Murakami\", \"year\": 2002},\n",
    "        {\"title\": \"Norwegian Wood\", \"author\": \"Haruki Murakami\", \"year\": 1987},\n",
    "        {\"title\": \"1Q84\", \"author\": \"Haruki Murakami\", \"year\": 2009}\n",
    "    ]\n",
    "    db.books.insert_many(books)\n",
    "\n",
    "    # 영화 데이터 삽입\n",
    "    movies = [\n",
    "        {\"title\": \"Inception\", \"director\": \"Christopher Nolan\", \"year\": 2010, \"rating\": 8.8, \"genre\": \"fantasy\"},\n",
    "        {\"title\": \"Interstellar\", \"director\": \"Christopher Nolan\", \"year\": 2014, \"rating\": 8.6, \"genre\": \"scifi\"},\n",
    "        {\"title\": \"The Dark Knight\", \"director\": \"Christopher Nolan\", \"year\": 2008, \"rating\": 9.0, \"genre\": \"action\"}\n",
    "    ]\n",
    "    db.movies.insert_many(movies)\n",
    "\n",
    "    # 사용자 행동 데이터 삽입\n",
    "    user_actions = [\n",
    "        {\"user_id\": 1, \"action\": \"click\", \"timestamp\": \"2023-04-12T08:00:00Z\"},\n",
    "        {\"user_id\": 1, \"action\": \"view\", \"timestamp\": \"2023-04-12T09:00:00Z\"},\n",
    "        {\"user_id\": 2, \"action\": \"purchase\", \"timestamp\": \"2023-04-12T10:00:00Z\"}\n",
    "    ]\n",
    "    db.user_actions.insert_many(user_actions)\n",
    "\n",
    "    print(\"Data inserted successfully\")\n",
    "    client.close()\n",
    "\n",
    "if __name__ == \"__main__\":\n",
    "    insert_data()\n"
   ]
  },
  {
   "cell_type": "code",
   "execution_count": 71,
   "metadata": {},
   "outputs": [
    {
     "name": "stdout",
     "output_type": "stream",
     "text": [
      "{'director': 'Christopher Nolan', 'year': 2010, 'rating': 8.8}\n",
      "{'director': 'Christopher Nolan', 'year': 2010, 'rating': 8.8}\n",
      "{'director': 'Christopher Nolan', 'year': 2010, 'rating': 8.8}\n",
      "{'director': 'Christopher Nolan', 'year': 2010, 'rating': 8.8}\n"
     ]
    }
   ],
   "source": [
    "# - **문제 설명**:\n",
    "# 사용자는 \"fantasy\" 장르의 모든 책을 찾고 싶어합니다.\n",
    "# - **쿼리 작성 목표**:\n",
    "# \"fantasy\" 장르에 해당하는 모든 책의 제목과 저자를 찾는 MongoDB 쿼리를 함수로 만들어 문제를 해결해 봅니다.\n",
    "def find_genre(db,genre):\n",
    "    collection = db.movies\n",
    "    query = {\"genre\": genre}\n",
    "    projection = {\"_id\": 0, \"director\": 1, \"year\": 1, \"rating\": 1}\n",
    "\n",
    "    movies = collection.find(query, projection)\n",
    "    for movie in movies:\n",
    "        print(movie)\n",
    "\n",
    "client = MongoClient('mongodb://localhost:27017/')\n",
    "find_genre(client.local,'fantasy')"
   ]
  },
  {
   "cell_type": "code",
   "execution_count": 85,
   "metadata": {},
   "outputs": [
    {
     "name": "stdout",
     "output_type": "stream",
     "text": [
      "[{'_id': None, 'average_rating': 8.8}]\n"
     ]
    }
   ],
   "source": [
    "# - **문제 설명**:\n",
    "# 각 영화 감독별로 그들의 영화 평점의 평균을 계산하고 싶습니다. 이를 통해 어떤 감독이 가장 높은 평균 평점을 가지고 있는지 알아볼 수 있습니다.\n",
    "# - **쿼리 작성 목표**:\n",
    "# 모든 영화 감독의 영화 평점 평균을 계산하고, 평균 평점이 높은 순으로 정렬하는 MongoDB 쿼리를 함수로 만들어 문제를 해결해 봅니다.\n",
    "\n",
    "from pymongo import MongoClient\n",
    "\n",
    "def calculate_average_rating(db):\n",
    "    collection = db.movies\n",
    "\n",
    "    pipeline = [\n",
    "        {\n",
    "            \"$group\": {\n",
    "                \"_id\": None,\n",
    "                \"average_rating\": {\"$avg\": \"$rating\"}\n",
    "            }\n",
    "        }\n",
    "    ]\n",
    "\n",
    "    result = list(collection.aggregate(pipeline))\n",
    "    print(result)\n",
    "\n",
    "\n",
    "if __name__ == \"__main__\":\n",
    "    client = MongoClient('mongodb://localhost:27017/')\n",
    "    calculate_average_rating(client.local)\n",
    "    client.close()\n"
   ]
  },
  {
   "cell_type": "code",
   "execution_count": 93,
   "metadata": {},
   "outputs": [
    {
     "name": "stdout",
     "output_type": "stream",
     "text": [
      "{'_id': ObjectId('662a04122b600b62447b1099'), 'user_id': 1, 'action': 'view', 'timestamp': '2023-04-12T09:00:00Z'}\n",
      "{'_id': ObjectId('662a0f6f2b600b62447b10ad'), 'user_id': 1, 'action': 'view', 'timestamp': '2023-04-12T09:00:00Z'}\n",
      "{'_id': ObjectId('662a0a632b600b62447b10a3'), 'user_id': 1, 'action': 'view', 'timestamp': '2023-04-12T09:00:00Z'}\n",
      "{'_id': ObjectId('662a02972b600b62447b1085'), 'user_id': 1, 'action': 'view', 'timestamp': '2023-04-12T09:00:00Z'}\n",
      "{'_id': ObjectId('662a040f2b600b62447b108f'), 'user_id': 1, 'action': 'view', 'timestamp': '2023-04-12T09:00:00Z'}\n"
     ]
    }
   ],
   "source": [
    "# - **문제 설명**:\n",
    "# 특정 사용자의 최근 행동 로그를 조회하고자 합니다. 이 때, 최신 순으로 정렬하여 최근 5개의 행동만을 보고 싶습니다.\n",
    "# - **쿼리 작성 목표**:\n",
    "# 사용자 ID가 1인 사용자의 최근 행동 5개를 시간 순으로 정렬하여 조회하는 MongoDB 쿼리를 함수로 만들어 문제를 해결해 봅니다.\n",
    "def find_recent_actions_by_user(db, user_id, limit=5):\n",
    "    u_a_collection = db.user_actions\n",
    "    query = {\"user_id\": user_id}\n",
    "    sort_criteria = [(\"timestamp\", -1)]\n",
    "\n",
    "    actions = u_a_collection.find(query).sort(sort_criteria).limit(limit)\n",
    "    for action in actions:\n",
    "        print(action)\n",
    "\n",
    "client = MongoClient('mongodb://localhost:27017/')\n",
    "find_recent_actions_by_user(client.local, 1)\n",
    "\n"
   ]
  },
  {
   "cell_type": "code",
   "execution_count": 95,
   "metadata": {},
   "outputs": [
    {
     "name": "stdout",
     "output_type": "stream",
     "text": [
      "{'_id': 2002, 'count': 15}\n",
      "{'_id': 1987, 'count': 15}\n",
      "{'_id': 2009, 'count': 15}\n"
     ]
    }
   ],
   "source": [
    "# - **문제 설명** :\n",
    "# 데이터베이스에 저장된 책 데이터를 이용하여 각 출판 연도별로 출판된 책의 수를 계산하고자 합니다. 이 데이터는 시간에 따른 출판 트렌드를 분석하는 데 사용될 수 있습니다.\n",
    "# - **쿼리 작성 목표** :\n",
    "# 각 출판 연도별로 출판된 책의 수를 계산하고, 출판된 책의 수가 많은 순서대로 정렬하는 MongoDB 쿼리를 함수로 만들어 문제를 해결해 봅니다.\n",
    "#파이프라인은 아직도 모르겟군\n",
    "def count_books_by_year(db):\n",
    "    books_collection = db.books\n",
    "    pipeline = [\n",
    "        {\"$group\": {\"_id\": \"$year\", \"count\": {\"$sum\": 1}}},\n",
    "        {\"$sort\": {\"count\": -1}}\n",
    "    ]\n",
    "\n",
    "    results = books_collection.aggregate(pipeline)\n",
    "    for result in results:\n",
    "        print(result)\n",
    "\n",
    "#함수 실행 코드\n",
    "client = MongoClient('mongodb://localhost:27017/')\n",
    "count_books_by_year(client.local)\n"
   ]
  },
  {
   "cell_type": "code",
   "execution_count": 96,
   "metadata": {},
   "outputs": [
    {
     "name": "stdout",
     "output_type": "stream",
     "text": [
      "Updated 0 documents.\n"
     ]
    }
   ],
   "source": [
    "# - **문제 설명**:\n",
    "# 특정 사용자의 행동 로그 중, 특정 날짜 이전의 \"view\" 행동을 \"seen\"으로 변경하고 싶습니다. 예를 들어, 사용자 ID가 1인 사용자의 2023년 4월 10일 이전의 모든 \"view\" 행동을 \"seen\"으로 변경하는 작업입니다.\n",
    "# - **쿼리 작성 목표**:\n",
    "# 사용자 ID가 1인 사용자의 2023년 4월 10일 이전의 \"view\" 행동을 \"seen\"으로 변경하는 MongoDB 업데이트 쿼리를 함수로 만들어 문제를 해결해 봅니다.\n",
    "# 모르겠군\n",
    "from datetime import datetime\n",
    "\n",
    "def update_user_actions_before_date(db, user_id, date, old_action, new_action):\n",
    "    user_actions_collection = db.user_actions\n",
    "    query = {\"user_id\": user_id, \"action\": old_action, \"timestamp\": {\"$lt\": date}}\n",
    "    update = {\"$set\": {\"action\": new_action}}\n",
    "\n",
    "    result = user_actions_collection.update_many(query, update)\n",
    "    print(f\"Updated {result.modified_count} documents.\")\n",
    "\n",
    "#함수 실행 코드\n",
    "client = MongoClient('mongodb://localhost:27017/')\n",
    "update_user_actions_before_date(client.local, 1, datetime(2023, 4, 10), \"view\", \"seen\")"
   ]
  }
 ],
 "metadata": {
  "kernelspec": {
   "display_name": "myenv",
   "language": "python",
   "name": "python3"
  },
  "language_info": {
   "codemirror_mode": {
    "name": "ipython",
    "version": 3
   },
   "file_extension": ".py",
   "mimetype": "text/x-python",
   "name": "python",
   "nbconvert_exporter": "python",
   "pygments_lexer": "ipython3",
   "version": "3.12.3"
  }
 },
 "nbformat": 4,
 "nbformat_minor": 2
}
