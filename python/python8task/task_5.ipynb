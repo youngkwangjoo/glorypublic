{
 "cells": [
  {
   "cell_type": "markdown",
   "metadata": {},
   "source": [
    "[문제]\n",
    "\n",
    "'Account' 클래스를 작성하세요. \n",
    "\n",
    "이 클래스는 소유자(owner)와 잔액(balance)을 속성으로 가지며, 잔액은 프라이빗 변수로 선언합니다. \n",
    "\n",
    "'deposit'와 'withdraw' 두 개의 메소드를 통해 잔액을 조작할 수 있도록 하세요. \n",
    "\n",
    "이 때, 잔액은 음수가 될 수 없도록 체크해야 합니다. 'Account' 객체를 생성하고,<br>\n",
    "입금 및 출금 작업을 시뮬레이션한 후, 최종 잔액을 출력하세요."
   ]
  },
  {
   "cell_type": "code",
   "execution_count": 16,
   "metadata": {},
   "outputs": [],
   "source": [
    "class Account:\n",
    "    def __init__(self, owner: str, balance: int):\n",
    "        self.owner = owner\n",
    "        self.__balance = balance\n",
    "   \n",
    "    def withdraw(self):\n",
    "        action = input(\"입금, 출금을 선택해주세요: \")\n",
    "        if action == \"출금\":\n",
    "            try:\n",
    "                money = int(input(\"출금할 금액을 적어주세요: \"))\n",
    "                if money < 0:\n",
    "                    print(\"마이너스는 출금할 수 없습니다.\")\n",
    "                    return\n",
    "                if money > self.__balance:\n",
    "                    print(\"잔액이 부족합니다.\")\n",
    "                    return\n",
    "                self.__balance -= money\n",
    "                print(\"출금이 완료되었습니다. 현재 잔액은 \", self.__balance)\n",
    "            except ValueError:\n",
    "                print(\"숫자를 입력하세요\")\n",
    "    \n",
    "    def deposit(self):\n",
    "        action = input(\"입금, 출금을 선택해주세요: \")\n",
    "        if action == \"입금\":\n",
    "            try:\n",
    "                money = int(input(\"입금할 금액을 적어주세요: \"))\n",
    "                if money < 0:\n",
    "                    print(\"마이너스는 입금할 수 없습니다.\")\n",
    "                    return\n",
    "                self.__balance += money\n",
    "                print(\"입금이 완료되었습니다. 현재 잔액은 \", self.__balance)\n",
    "            except ValueError:\n",
    "                print(\"숫자를 입력하세요\")\n",
    "\n",
    "    \n",
    "account = Account(\"주영광\", 30000)\n",
    "account.withdraw()\n",
    "account.deposit()\n",
    "account()\n",
    "\n",
    "#입력 받아서 입금 출금을 기록하려고 했는데, 시작할때 입금 출금이 두번씩 뜸.. 호출 함수에 두개를 다 입력해서 그런거같은데 아직 방법을 모르겠음"
   ]
  }
 ],
 "metadata": {
  "kernelspec": {
   "display_name": "Python 3",
   "language": "python",
   "name": "python3"
  },
  "language_info": {
   "codemirror_mode": {
    "name": "ipython",
    "version": 3
   },
   "file_extension": ".py",
   "mimetype": "text/x-python",
   "name": "python",
   "nbconvert_exporter": "python",
   "pygments_lexer": "ipython3",
   "version": "3.9.6"
  }
 },
 "nbformat": 4,
 "nbformat_minor": 2
}
