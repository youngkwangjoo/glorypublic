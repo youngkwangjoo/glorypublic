{
 "cells": [
  {
   "cell_type": "markdown",
   "metadata": {},
   "source": [
    "5*5사이즈 보드판 생성\n",
    "보물과 위치는 random\n",
    "이동명령은 input\n",
    "힌트제공 보물까지 거리\n",
    "보물장소에 도착하면 break\n",
    "힌트는 어떤식으로? 내 위치에서 위, 오른쪽 왼쪽만 알려주자. \n",
    "그럼 보드판 좌표는? \n",
    "다 dict 값으로 묶으면? \n"
   ]
  },
  {
   "cell_type": "code",
   "execution_count": 27,
   "metadata": {},
   "outputs": [
    {
     "name": "stdout",
     "output_type": "stream",
     "text": [
      "보물위치는 : (1, 2)\n",
      "게임 규칙을 설명 드리겠습니다.\n",
      " 당신은 5x5 한 가운데 있습니다. 보뮬의 위치는 25칸중 랜덤으로 발생합나다.\n",
      " 당신은 위, 아래, 왼쪽, 오른쪽을 통해 움직일 수 있고, 한칸 움직일때 마다 보물의 위치에 관한 힌트가 주어집니다.\n",
      "위로 한칸 이동했습니다.\n"
     ]
    }
   ],
   "source": [
    "# import random\n",
    "# #보드판을 dict 좌표로 제작\n",
    "\n",
    "# board = {\n",
    "#     -2:-2, -2:-1, -2:0, -2:1, -2:2,\n",
    "#     -1:-2, -1:-1, -1:0, -1:1, -1:2,\n",
    "#     0:-2, 0:-1, 0:0, 0:1, 0:2,\n",
    "#     1:-2, 1:-1, 1:0, 1:1, 1:2,\n",
    "#     2:-2, 2:-1, 2:0, 2:1, 2:2,\n",
    "# }\n",
    "# random_key = random.choice(list(board.keys()))\n",
    "# random_value = board[random_key]\n",
    "\n",
    "# x, y = random_key, random_value\n",
    "# print(\"보물위치는 :\", (x, y))\n",
    "\n",
    "# #여기까지 답은 랜덤 좌표로 도출했다. 다음은 이동명령 차례\n",
    "# print(\n",
    "#     \"게임 규칙을 설명 드리겠습니다.\\n 당신은 5x5 한 가운데 있습니다. 보뮬의 위치는 25칸중 랜덤으로 발생합나다.\\n 당신은 위, 아래, 왼쪽, 오른쪽을 통해 움직일 수 있고, 한칸 움직일때 마다 보물의 위치에 관한 힌트가 주어집니다.\"\n",
    "#     )\n",
    "# direction = (input(\"방향을 입력해주세요\"))\n",
    "# if direction == \"위\":\n",
    "#     random_key -= 1\n",
    "#     print(\"위로 한칸 이동했습니다.\")\n",
    "\n",
    "# if direction == \"아래\":\n",
    "#     random_key += 1\n",
    "#     print(\"아래로 한칸 이동했습니다.\")\n",
    "\n",
    "# if direction == \"오른쪽\":\n",
    "#     random_value += 1\n",
    "#     print(\"위로 한칸 이동했습니다.\")\n",
    "\n",
    "# if direction == \"왼쪽\":\n",
    "#     random_key -= 1\n",
    "#     print(\"위로 한칸 이동했습니다.\")\n",
    "\n",
    "#여기까지 해결해야할점 보물 좌표가 나온뒤 인풋값으로 보물에 다가가야하는데 동시에 이루어짐. "
   ]
  },
  {
   "cell_type": "code",
   "execution_count": 30,
   "metadata": {},
   "outputs": [
    {
     "name": "stdout",
     "output_type": "stream",
     "text": [
      "게임 규칙을 설명 드리겠습니다.\n",
      "당신은 5x5 한 가운데 있습니다. 보물의 위치는 25칸 중 랜덤으로 발생합니다.\n",
      "당신은 위, 아래, 왼쪽, 오른쪽을 통해 움직일 수 있고, 한 칸 움직일 때마다 보물의 위치에 관한 힌트가 주어집니다.\n",
      "현재 위치: (0, 0)\n",
      "이동 후 위치: (0, 1)\n",
      "보물까지의 거리: 2\n",
      "현재 위치: (0, 1)\n",
      "이동 후 위치: (0, 2)\n",
      "보물까지의 거리: 3\n",
      "현재 위치: (0, 2)\n",
      "이동 후 위치: (0, 1)\n",
      "보물까지의 거리: 2\n",
      "현재 위치: (0, 1)\n",
      "이동 후 위치: (1, 1)\n",
      "보물까지의 거리: 1\n",
      "현재 위치: (1, 1)\n",
      "이동 후 위치: (2, 1)\n",
      "보물까지의 거리: 2\n",
      "현재 위치: (2, 1)\n",
      "이동 후 위치: (1, 1)\n",
      "보물까지의 거리: 1\n",
      "현재 위치: (1, 1)\n",
      "이동 후 위치: (1, 0)\n",
      "보물까지의 거리: 0\n",
      "축하합니다! 보물을 찾았습니다!\n"
     ]
    }
   ],
   "source": [
    "board = {(x, y): '-' for x in range(-2, 3) for y in range(-2, 3)}\n",
    "\n",
    "# 보물의 위치를 랜덤으로 설정\n",
    "treasure_x = random.randint(-2, 2)\n",
    "treasure_y = random.randint(-2, 2)\n",
    "board[(treasure_x, treasure_y)] = 'T'\n",
    "\n",
    "# 게임 시작 안내 메시지 출력\n",
    "print(\"게임 규칙을 설명 드리겠습니다.\")\n",
    "print(\"당신은 5x5 한 가운데 있습니다. 보물의 위치는 25칸 중 랜덤으로 발생합니다.\")\n",
    "print(\"당신은 위, 아래, 왼쪽, 오른쪽을 통해 움직일 수 있고, 한 칸 움직일 때마다 보물의 위치에 관한 힌트가 주어집니다.\")\n",
    "\n",
    "# 플레이어의 초기 위치 설정\n",
    "player_x = 0\n",
    "player_y = 0\n",
    "\n",
    "# 게임 루프\n",
    "for _ in range(8):  # 총 5번의 이동 기회\n",
    "    print(\"현재 위치:\", (player_x, player_y))\n",
    "\n",
    "    # 이동 방향 입력 받기\n",
    "    direction = input(\"이동 방향을 입력하세요 (위/아래/왼쪽/오른쪽): \")\n",
    "\n",
    "    # 플레이어 이동 처리\n",
    "    if direction == \"위\":\n",
    "        player_y += 1\n",
    "    elif direction == \"아래\":\n",
    "        player_y -= 1\n",
    "    elif direction == \"왼쪽\":\n",
    "        player_x -= 1\n",
    "    elif direction == \"오른쪽\":\n",
    "        player_x += 1\n",
    "    else:\n",
    "        print(\"잘못된 입력입니다. 다시 입력하세요.\")\n",
    "        continue\n",
    "\n",
    "    # 이동 후 위치 출력\n",
    "    print(\"이동 후 위치:\", (player_x, player_y))\n",
    "\n",
    "    # 보물까지의 거리 출력\n",
    "    distance_x = treasure_x - player_x\n",
    "    distance_y = treasure_y - player_y\n",
    "    distance = abs(distance_x) + abs(distance_y)\n",
    "    print(\"보물까지의 거리:\", distance)\n",
    "\n",
    "    # 보물 발견 여부 확인\n",
    "    if (player_x, player_y) == (treasure_x, treasure_y):\n",
    "        print(\"축하합니다! 보물을 찾았습니다!\")\n",
    "        break\n",
    "else:\n",
    "    print(\"안타깝지만 이번 기회에 보물을 찾지 못했습니다.\")"
   ]
  },
  {
   "cell_type": "markdown",
   "metadata": {},
   "source": []
  }
 ],
 "metadata": {
  "kernelspec": {
   "display_name": "Python 3",
   "language": "python",
   "name": "python3"
  },
  "language_info": {
   "codemirror_mode": {
    "name": "ipython",
    "version": 3
   },
   "file_extension": ".py",
   "mimetype": "text/x-python",
   "name": "python",
   "nbconvert_exporter": "python",
   "pygments_lexer": "ipython3",
   "version": "3.9.6"
  }
 },
 "nbformat": 4,
 "nbformat_minor": 2
}
