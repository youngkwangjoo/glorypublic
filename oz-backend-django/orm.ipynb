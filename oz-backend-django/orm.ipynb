{
 "cells": [
  {
   "cell_type": "markdown",
   "metadata": {},
   "source": [
    "### 1. 사용자 추가하기\n",
    "\n",
    "문제 : 사용자 3명을 추가해주세요"
   ]
  },
  {
   "cell_type": "markdown",
   "metadata": {},
   "source": [
    "- `username` : 박지수\n",
    "    - `email` : jisoo_2@naver.com\n",
    "    - `phone_number` : 010-2354-2234\n",
    "    - `password`(’pw123’)"
   ]
  },
  {
   "cell_type": "markdown",
   "metadata": {},
   "source": [
    "- username : 강철\n",
    "    - `email` : ggch@naver.com\n",
    "    - `phone_number` : 010-1114-6443\n",
    "    - `password`(’pwpw’)"
   ]
  },
  {
   "cell_type": "markdown",
   "metadata": {},
   "source": [
    "- username : 민현지\n",
    "    - `email` : master_g@gmail.com\n",
    "    - `phone_number` : 010-8495-3456"
   ]
  },
  {
   "cell_type": "markdown",
   "metadata": {},
   "source": [
    "In [2]: new_user = User(username='박지수', email='jisoo_2@naver.com', phone_number='010-2354-2234')\n",
    "   ...: new_user.set_password('pw123')\n",
    "   ...: new_user.save()\n",
    "   ...: \n",
    "   ...: # 강철\n",
    "   ...: new_user = User(username='강철', email='ggch@naver.com', phone_number='010-1114-6443')\n",
    "   ...: new_user.set_password('pwpw')\n",
    "   ...: new_user.save()\n",
    "   ...: \n",
    "   ...: # 민현지\n",
    "   ...: new_user = User(username='민현지', email='master_g@gmail.com', phone_number='010-8495-3456')\n",
    "   ...: new_user.set_password('pw123') "
   ]
  },
  {
   "cell_type": "markdown",
   "metadata": {},
   "source": [
    "### 2.특정 사용자 조회하기"
   ]
  },
  {
   "cell_type": "markdown",
   "metadata": {},
   "source": [
    "문제: '박지수' 사용자의 전체 정보를 조회하세요."
   ]
  },
  {
   "cell_type": "code",
   "execution_count": null,
   "metadata": {},
   "outputs": [],
   "source": [
    "In [16]: for i in users:\n",
    "    ...:     print(i.username, i.email, i.phone_number)\n",
    "    ...: \n",
    "박지수 jisoo_2@naver.com 010-2354-2234"
   ]
  },
  {
   "cell_type": "markdown",
   "metadata": {},
   "source": [
    "문제 : ‘강철’ 사용자의 이메일 주소를 'steel_kang@naver.com'으로 변경해주세요"
   ]
  },
  {
   "cell_type": "code",
   "execution_count": null,
   "metadata": {},
   "outputs": [],
   "source": [
    "In [27]: kang_chul = User.objects.get(username='강철')\n",
    "    ...: kang_chul.email = 'steel_kang@naver.com'\n",
    "    ...: kang_chul.save()\n",
    "\n",
    "In [28]:  kang_chul.email\n",
    "Out[28]: 'steel_kang@naver.com'"
   ]
  },
  {
   "cell_type": "markdown",
   "metadata": {},
   "source": [
    "문제 : '민현지' 사용자의 비밀번호를 'newpassword'로 변경해주세요"
   ]
  },
  {
   "cell_type": "code",
   "execution_count": null,
   "metadata": {},
   "outputs": [],
   "source": [
    "In [29]: hyunji_min = User.objects.get(username='민현지')\n",
    "    ...: hyunji_min.set_password('newpassword')\n",
    "    ...: hyunji_min.save()\n",
    "\n",
    "In [30]: hyunji_min.set_password\n",
    "Out[30]: <bound method AbstractBaseUser.set_password of <User: 민현지>>"
   ]
  },
  {
   "cell_type": "markdown",
   "metadata": {},
   "source": [
    "문제 : 모든 사용자의 이름과 이메일 주소 조회 후 출력해주세요"
   ]
  },
  {
   "cell_type": "code",
   "execution_count": null,
   "metadata": {},
   "outputs": [],
   "source": [
    "\n",
    "In [33]: users = User.objects.all()\n",
    "    ...: for user in users:\n",
    "    ...:     print(user.username, user.email)\n",
    "    ...: \n",
    "admin admin@gmail.com\n",
    "박지수 jisoo_2@naver.com\n",
    "강철 steel_kang@naver.com\n",
    "민현지 master_g@gmail.com"
   ]
  },
  {
   "cell_type": "markdown",
   "metadata": {},
   "source": [
    "문제 : 전화번호가 등록된 사용자만 조회 후 출력해주세요"
   ]
  },
  {
   "cell_type": "code",
   "execution_count": null,
   "metadata": {},
   "outputs": [],
   "source": [
    "In [34]: users_with_phone = User.objects.exclude(phone_number__isnull=True).exclude(phone_number='')\n",
    "    ...: for user in users_with_phone:\n",
    "    ...:     print(user.username, user.phone_number)\n",
    "    ...: \n",
    "박지수 010-2354-2234\n",
    "강철 010-1114-6443\n",
    "민현지 010-8495-3456"
   ]
  },
  {
   "cell_type": "markdown",
   "metadata": {},
   "source": [
    "문제 : 특정 이메일 도메인(@gmail.com)을 가진 사용자를 조회 후 출력해주세요"
   ]
  },
  {
   "cell_type": "code",
   "execution_count": null,
   "metadata": {},
   "outputs": [],
   "source": [
    "In [35]: gmail_users = User.objects.filter(email__endswith='@gmail.com')\n",
    "    ...: for user in gmail_users:\n",
    "    ...:     print(user.username, user.email)\n",
    "    ...: \n",
    "admin admin@gmail.com\n",
    "민현지 master_g@gmail.com"
   ]
  },
  {
   "cell_type": "markdown",
   "metadata": {},
   "source": [
    "문제 : 사용자 이름에 '지'가 포함된 사용자를 조회 후 출력해주세요"
   ]
  },
  {
   "cell_type": "code",
   "execution_count": null,
   "metadata": {},
   "outputs": [],
   "source": [
    "In [36]: users_with_ji = User.objects.filter(username__contains='지')\n",
    "    ...: for user in users_with_ji:\n",
    "    ...:     print(user.username)\n",
    "    ...: \n",
    "박지수\n",
    "민현지\n"
   ]
  },
  {
   "cell_type": "markdown",
   "metadata": {},
   "source": [
    "문제 : 최근 등록된 사용자 2명을 조회 후 출력해주세요"
   ]
  },
  {
   "cell_type": "code",
   "execution_count": null,
   "metadata": {},
   "outputs": [],
   "source": [
    "In [37]: recent_three_users = User.objects.all().order_by('-date_joined')[:3]\n",
    "    ...: for user in recent_three_users:\n",
    "    ...:     print(user.username, user.date_joined)\n",
    "    ...: \n",
    "민현지 2024-05-30 07:57:06.510182+00:00\n",
    "강철 2024-05-30 07:57:05.337864+00:00\n",
    "박지수 2024-05-30 07:57:04.140852+00:00\n"
   ]
  },
  {
   "cell_type": "markdown",
   "metadata": {},
   "source": [
    "### 3.특정 사용자 조회하기\n",
    "\n",
    "1. 관계 설정된 모델에 데이터 추가하기"
   ]
  },
  {
   "cell_type": "markdown",
   "metadata": {},
   "source": [
    "- 박지수 사용자의 address 정보를 추가해주세요\n",
    "    - `user` : jisoo\n",
    "    - `street` : 23-2\n",
    "    - `city` : 서울시\n",
    "    - `state` : 영등포구\n",
    "    - `postal_code` : 04231\n",
    "    - `country` : 대한민국"
   ]
  },
  {
   "cell_type": "code",
   "execution_count": null,
   "metadata": {},
   "outputs": [],
   "source": [
    "In [38]: jisoo = User.objects.get(username='박지수')\n",
    "    ...: \n",
    "    ...: # 새 주소 객체 생성\n",
    "    ...: new_address = Address(\n",
    "    ...:     user=jisoo,\n",
    "    ...:     street=\"23-2\",\n",
    "    ...:     city=\"서울시\",\n",
    "    ...:     state=\"영등포구\",\n",
    "    ...:     postal_code=\"04231\",\n",
    "    ...:     country=\"대한민국\"\n",
    "    ...: )\n",
    "    ...: \n",
    "    ...: # 주소 정보 저장\n",
    "    ...: new_address.save()\n",
    "\n",
    "In [39]: "
   ]
  },
  {
   "cell_type": "markdown",
   "metadata": {},
   "source": [
    "- 민현지 사용자의 address 정보를 추가해주세요\n",
    "    - `user` : hyunji\n",
    "    - `street` : 43-1\n",
    "    - `city` : 부산특별시\n",
    "    - `state` : 사직동\n",
    "    - `postal_code` : 61234\n",
    "    - `country` : 대한민국"
   ]
  },
  {
   "cell_type": "code",
   "execution_count": null,
   "metadata": {},
   "outputs": [],
   "source": [
    "\n",
    "In [39]: # 사용자 '민현지' 찾기\n",
    "    ...: hyunji = User.objects.get(username='민현지')\n",
    "    ...: \n",
    "    ...: # 민현지에게 새 주소 추가\n",
    "    ...: hyunji_address = Address(\n",
    "    ...:     user=hyunji,\n",
    "    ...:     street=\"43-1\",\n",
    "    ...:     city=\"부산특별시\",\n",
    "    ...:     state=\"사직동\",\n",
    "    ...:     postal_code=\"61234\",\n",
    "    ...:     country=\"대한민국\"\n",
    "    ...: )\n",
    "    ...: \n",
    "    ...: # 주소 정보 저장\n",
    "    ...: hyunji_address.save()\n"
   ]
  },
  {
   "cell_type": "markdown",
   "metadata": {},
   "source": [
    "- 강철 사용자의 address 정보를 추가해주세요\n",
    "    - `user` : kang_chul\n",
    "    - `street` : 99-2\n",
    "    - `city` : 서울\n",
    "    - `state` : 강남구\n",
    "    - `postal_code` : 68975\n",
    "    - `country` : 대한민국"
   ]
  },
  {
   "cell_type": "code",
   "execution_count": null,
   "metadata": {},
   "outputs": [],
   "source": [
    "In [40]: # 사용자 '강철' 찾기\n",
    "    ...: kang_chul = User.objects.get(username='강철')\n",
    "    ...: \n",
    "    ...: # 강철에게 새 주소 추가\n",
    "    ...: kang_chul_address = Address(\n",
    "    ...:     user=kang_chul,\n",
    "    ...:     street=\"99-2\",\n",
    "    ...:     city=\"서울\",\n",
    "    ...:     state=\"강남구\",\n",
    "    ...:     postal_code=\"223344\",\n",
    "    ...:     country=\"대한민국\"\n",
    "    ...: )\n",
    "    ...: \n",
    "    ...: # 주소 정보 저장\n",
    "    ...: kang_chul_address.save()\n",
    "\n",
    "In [41]: "
   ]
  },
  {
   "cell_type": "markdown",
   "metadata": {},
   "source": [
    "### 4. 관계 설정된 모델에 데이터 조회하기\n",
    "\n",
    "'박지수' 사용자에 연결된 모든 주소 정보를 조회 후 출력해주세요"
   ]
  },
  {
   "cell_type": "code",
   "execution_count": null,
   "metadata": {},
   "outputs": [],
   "source": [
    "In [41]: jisoo = User.objects.get(username='박지수')\n",
    "    ...: addresses_jisoo = Address.objects.filter(user=jisoo)\n",
    "    ...: \n",
    "    ...: for address in addresses_jisoo:\n",
    "    ...:     print(address)\n",
    "    ...: \n",
    "23-2, 서울시, 영등포구, 04231, 대한민국"
   ]
  },
  {
   "cell_type": "markdown",
   "metadata": {},
   "source": [
    "### 5.사용자 정보 삭제하기\n",
    "\n",
    "‘강철’ 사용자의 장보를 삭제해주세요"
   ]
  },
  {
   "cell_type": "markdown",
   "metadata": {},
   "source": [
    "In [42]: kang_chul = User.objects.get(username='강철')\n",
    "    ...: kang_chul.delete()\n",
    "Out[42]: (2, {'addresses.Address': 1, 'accounts.User': 1})"
   ]
  }
 ],
 "metadata": {
  "language_info": {
   "name": "python"
  }
 },
 "nbformat": 4,
 "nbformat_minor": 2
}
